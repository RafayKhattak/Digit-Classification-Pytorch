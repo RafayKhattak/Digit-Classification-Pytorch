{
 "cells": [
  {
   "cell_type": "code",
   "execution_count": null,
   "id": "64440991",
   "metadata": {},
   "outputs": [],
   "source": [
    "# Importing dependencies\n",
    "import torch\n",
    "from PIL import Image\n",
    "from torch import nn,save,load\n",
    "from torch.optim import Adam\n",
    "from torch.utils.data import DataLoader\n",
    "from torchvision import datasets, transforms"
   ]
  },
  {
   "cell_type": "code",
   "execution_count": null,
   "id": "80bb050d",
   "metadata": {},
   "outputs": [],
   "source": [
    "# Loading Data\n",
    "transform = transforms.Compose([transforms.ToTensor()])\n",
    "train_dataset = datasets.MNIST(root=\"data\", download=True, train=True, transform=transform)\n",
    "train_loader = DataLoader(train_dataset, batch_size=32, shuffle=True)"
   ]
  },
  {
   "cell_type": "code",
   "execution_count": null,
   "id": "96e84ecb",
   "metadata": {},
   "outputs": [],
   "source": [
    "# Define the image classifier model\n",
    "class ImageClassifier(nn.Module):\n",
    "    def __init__(self):\n",
    "        super(ImageClassifier, self).__init__()\n",
    "        self.conv_layers = nn.Sequential(\n",
    "            nn.Conv2d(1, 32, kernel_size=3),\n",
    "            nn.ReLU(),\n",
    "            nn.Conv2d(32, 64, kernel_size=3),\n",
    "            nn.ReLU(),\n",
    "            nn.Conv2d(64, 64, kernel_size=3),\n",
    "            nn.ReLU()\n",
    "        )\n",
    "        self.fc_layers = nn.Sequential(\n",
    "            nn.Flatten(),\n",
    "            nn.Linear(64 * 22 * 22, 10)\n",
    "        )\n",
    "\n",
    "    def forward(self, x):\n",
    "        x = self.conv_layers(x)\n",
    "        x = self.fc_layers(x)\n",
    "        return x"
   ]
  },
  {
   "cell_type": "code",
   "execution_count": null,
   "id": "2d90350c",
   "metadata": {},
   "outputs": [],
   "source": [
    "# Create an instance of the image classifier model\n",
    "device = torch.device(\"cuda\" if torch.cuda.is_available() else \"cpu\")\n",
    "classifier = ImageClassifier().to('device')"
   ]
  },
  {
   "cell_type": "code",
   "execution_count": null,
   "id": "36ac1eff",
   "metadata": {},
   "outputs": [],
   "source": [
    "# Define the optimizer and loss function\n",
    "optimizer = Adam(classifier.parameters(), lr=0.001)\n",
    "loss_fn = nn.CrossEntropyLoss()"
   ]
  },
  {
   "cell_type": "code",
   "execution_count": null,
   "id": "393b8d6e",
   "metadata": {},
   "outputs": [],
   "source": [
    "# Train the model\n",
    "for epoch in range(10):  # Train for 10 epochs\n",
    "    for images, labels in train_loader:\n",
    "        images, labels = images.to(device), labels.to(device)\n",
    "        optimizer.zero_grad()  # Reset gradients\n",
    "        outputs = classifier(images)  # Forward pass\n",
    "        loss = loss_fn(outputs, labels)  # Compute loss\n",
    "        loss.backward()  # Backward pass\n",
    "        optimizer.step()  # Update weights\n",
    "\n",
    "    print(f\"Epoch:{epoch} loss is {loss.item()}\")"
   ]
  },
  {
   "cell_type": "code",
   "execution_count": null,
   "id": "e8bdfa78",
   "metadata": {},
   "outputs": [],
   "source": [
    "# Save the trained model\n",
    "torch.save(classifier.state_dict(), 'model_state.pt')"
   ]
  },
  {
   "cell_type": "code",
   "execution_count": null,
   "id": "915e933a",
   "metadata": {},
   "outputs": [],
   "source": [
    "# Load the saved model\n",
    "with open('model_state.pt', 'rb') as f: \n",
    "     classifier.load_state_dict(load(f))  \n",
    "       "
   ]
  },
  {
   "cell_type": "code",
   "execution_count": null,
   "id": "7aa39942",
   "metadata": {},
   "outputs": [],
   "source": [
    "# Perform inference on an image\n",
    "img = Image.open('image.jpg')\n",
    "img_transform = transforms.Compose([transforms.ToTensor()])\n",
    "img_tensor = img_transform(img).unsqueeze(0).to(device)\n",
    "output = classifier(img_tensor)\n",
    "predicted_label = torch.argmax(output)\n",
    "print(f\"Predicted label: {predicted_label}\")"
   ]
  }
 ],
 "metadata": {
  "kernelspec": {
   "display_name": "Python 3 (ipykernel)",
   "language": "python",
   "name": "python3"
  },
  "language_info": {
   "codemirror_mode": {
    "name": "ipython",
    "version": 3
   },
   "file_extension": ".py",
   "mimetype": "text/x-python",
   "name": "python",
   "nbconvert_exporter": "python",
   "pygments_lexer": "ipython3",
   "version": "3.9.13"
  }
 },
 "nbformat": 4,
 "nbformat_minor": 5
}
